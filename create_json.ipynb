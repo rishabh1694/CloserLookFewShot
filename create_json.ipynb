{
 "cells": [
  {
   "cell_type": "code",
   "execution_count": 1,
   "metadata": {},
   "outputs": [],
   "source": [
    "import glob\n",
    "import json\n",
    "import matplotlib.pyplot as plt"
   ]
  },
  {
   "cell_type": "code",
   "execution_count": 2,
   "metadata": {},
   "outputs": [],
   "source": [
    "root_dir = \"/home/rishabhgupta/mvcnn_pytorch/modelnet40_images_new_12x/*/train\"\n",
    "set_ = root_dir.split('/')[-1]\n",
    "parent_dir = root_dir.rsplit('/',2)[0]"
   ]
  },
  {
   "cell_type": "code",
   "execution_count": 3,
   "metadata": {},
   "outputs": [
    {
     "data": {
      "image/png": "[encoded data removed]",
      "text/plain": [
       "<Figure size 432x288 with 1 Axes>"
      ]
     },
     "metadata": {
      "needs_background": "light"
     },
     "output_type": "display_data"
    }
   ],
   "source": [
    "classnames = !ls {parent_dir}\n",
    "all_files = []\n",
    "num_models = []\n",
    "for i in range(len(classnames)):\n",
    "    files = sorted(glob.glob(parent_dir+'/'+classnames[i]+'/'+set_+'/*.png'))\n",
    "    num = len(files)//12\n",
    "    all_files.append(files)\n",
    "    num_models.append(num)\n",
    "    \n",
    "plt.plot(sorted(num_models)[::-1])\n",
    "plt.xlabel('Classes')\n",
    "plt.ylabel('Number of models')\n",
    "plt.show()\n",
    "    \n",
    "classnames = [shape for _,shape in sorted(zip(num_models,classnames))][::-1]\n",
    "all_files = [files for _,files in sorted(zip(num_models,all_files))][::-1]\n"
   ]
  },
  {
   "cell_type": "code",
   "execution_count": 7,
   "metadata": {},
   "outputs": [],
   "source": [
    "base = {'label_names':[],'image_names':[],'image_labels':[]}\n",
    "val = {'label_names':[],'image_names':[],'image_labels':[]}\n",
    "novel = {'label_names':[],'image_names':[],'image_labels':[]}\n",
    "for i in range(len(classnames)):\n",
    "    if i % 5 == 0:\n",
    "        novel['label_names'].append(classnames[i])\n",
    "        for file in all_files[i]:\n",
    "            novel['image_names'].append(file)\n",
    "            novel['image_labels'].append(i)\n",
    "    elif i % 5 == 1:\n",
    "        val['label_names'].append(classnames[i])\n",
    "        for file in all_files[i]:\n",
    "            val['image_names'].append(file)\n",
    "            val['image_labels'].append(i)\n",
    "    else:\n",
    "        base['label_names'].append(classnames[i])\n",
    "        for file in all_files[i]:\n",
    "            base['image_names'].append(file)\n",
    "            base['image_labels'].append(i)\n",
    "\n",
    "with open('/home/rishabhgupta/CloserLookFewShot/filelists/ModelNet40/base.json','w') as f:\n",
    "    json.dump(base, f, indent=2)\n",
    "    f.close()\n",
    "    \n",
    "with open('/home/rishabhgupta/CloserLookFewShot/filelists/ModelNet40/val.json','w') as f:\n",
    "    json.dump(val, f, indent=2)\n",
    "    f.close()\n",
    "\n",
    "with open('/home/rishabhgupta/CloserLookFewShot/filelists/ModelNet40/novel.json','w') as f:\n",
    "    json.dump(novel, f, indent=2)\n",
    "    f.close()"
   ]
  },
  {
   "cell_type": "code",
   "execution_count": null,
   "metadata": {},
   "outputs": [],
   "source": []
  }
 ],
 "metadata": {
  "kernelspec": {
   "display_name": "Python 3",
   "language": "python",
   "name": "python3"
  },
  "language_info": {
   "codemirror_mode": {
    "name": "ipython",
    "version": 3
   },
   "file_extension": ".py",
   "mimetype": "text/x-python",
   "name": "python",
   "nbconvert_exporter": "python",
   "pygments_lexer": "ipython3",
   "version": "3.8.5"
  }
 },
 "nbformat": 4,
 "nbformat_minor": 2
}
